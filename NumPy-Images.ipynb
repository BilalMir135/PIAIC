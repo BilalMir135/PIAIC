{
 "cells": [
  {
   "cell_type": "code",
   "execution_count": 1,
   "metadata": {},
   "outputs": [],
   "source": [
    "import numpy as np\n",
    "import os\n",
    "import matplotlib.pyplot as plt\n",
    "from PIL import Image"
   ]
  },
  {
   "cell_type": "code",
   "execution_count": 2,
   "metadata": {},
   "outputs": [],
   "source": [
    "arr = np.zeros(( 20, 200, 200, 3), dtype='int16')\n",
    "x = 0"
   ]
  },
  {
   "cell_type": "code",
   "execution_count": 3,
   "metadata": {},
   "outputs": [
    {
     "name": "stdout",
     "output_type": "stream",
     "text": [
      "Found directory: .\\Photos\n",
      "\t1.jpg Original Size = (6000, 4000) Resized into = (200, 200)\n",
      "\t10.jpg Original Size = (5013, 4634) Resized into = (200, 200)\n",
      "\t11.jpg Original Size = (4920, 3251) Resized into = (200, 200)\n",
      "\t12.jpg Original Size = (5642, 4000) Resized into = (200, 200)\n",
      "\t13.jpg Original Size = (8192, 5461) Resized into = (200, 200)\n",
      "\t14.jpg Original Size = (5472, 3648) Resized into = (200, 200)\n",
      "\t15.jpg Original Size = (3632, 2417) Resized into = (200, 200)\n",
      "\t16.jpg Original Size = (1200, 675) Resized into = (200, 200)\n",
      "\t17.jpg Original Size = (1848, 1039) Resized into = (200, 200)\n",
      "\t18.jpg Original Size = (5131, 3421) Resized into = (200, 200)\n",
      "\t19.jpg Original Size = (3370, 4212) Resized into = (200, 200)\n",
      "\t2.jpg Original Size = (3024, 4032) Resized into = (200, 200)\n",
      "\t20.jpg Original Size = (5910, 4073) Resized into = (200, 200)\n",
      "\t3.jpg Original Size = (3433, 5149) Resized into = (200, 200)\n",
      "\t4.jpg Original Size = (2215, 2577) Resized into = (200, 200)\n",
      "\t5.jpg Original Size = (4272, 2848) Resized into = (200, 200)\n",
      "\t6.jpg Original Size = (3456, 2304) Resized into = (200, 200)\n",
      "\t7.jpg Original Size = (4032, 3024) Resized into = (200, 200)\n",
      "\t8.jpg Original Size = (4256, 2554) Resized into = (200, 200)\n",
      "\t9.jpg Original Size = (5193, 3462) Resized into = (200, 200)\n"
     ]
    }
   ],
   "source": [
    "rootDir = '.\\Photos'\n",
    "for dirName, subdirList, fileList in os.walk(rootDir):\n",
    "    print(f'Found directory: {dirName}')\n",
    "for fname in fileList:\n",
    "    print(f'\\t{fname}', end=' ')\n",
    "    im = Image.open(dirName+'\\\\'+fname)\n",
    "    print(f'Original Size = {im.size}', end=' ')\n",
    "    im = im.resize((200,200), Image.ANTIALIAS)\n",
    "    print(f'Resized into = {im.size}')\n",
    "    arr[x] = np.array(im, dtype='int16')\n",
    "    x +=1"
   ]
  },
  {
   "cell_type": "code",
   "execution_count": 4,
   "metadata": {},
   "outputs": [
    {
     "data": {
      "text/plain": [
       "(200, 200, 3)"
      ]
     },
     "execution_count": 4,
     "metadata": {},
     "output_type": "execute_result"
    }
   ],
   "source": [
    "arr[0].shape"
   ]
  },
  {
   "cell_type": "code",
   "execution_count": null,
   "metadata": {},
   "outputs": [],
   "source": []
  }
 ],
 "metadata": {
  "kernelspec": {
   "display_name": "Python 3",
   "language": "python",
   "name": "python3"
  },
  "language_info": {
   "codemirror_mode": {
    "name": "ipython",
    "version": 3
   },
   "file_extension": ".py",
   "mimetype": "text/x-python",
   "name": "python",
   "nbconvert_exporter": "python",
   "pygments_lexer": "ipython3",
   "version": "3.7.3"
  }
 },
 "nbformat": 4,
 "nbformat_minor": 2
}
