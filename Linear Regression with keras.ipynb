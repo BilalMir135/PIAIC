{
 "cells": [
  {
   "cell_type": "code",
   "execution_count": 11,
   "metadata": {},
   "outputs": [],
   "source": [
    "from keras.models import Sequential\n",
    "from keras.layers import Dense\n",
    "from keras.optimizers import Adam,SGD\n",
    "import matplotlib.pyplot as plt\n",
    "import pandas as pd\n",
    "import numpy as np"
   ]
  },
  {
   "cell_type": "code",
   "execution_count": 13,
   "metadata": {},
   "outputs": [],
   "source": [
    "df = pd.read_csv('./data/weight-height.csv')"
   ]
  },
  {
   "cell_type": "code",
   "execution_count": 14,
   "metadata": {},
   "outputs": [
    {
     "data": {
      "text/html": [
       "<div>\n",
       "<style scoped>\n",
       "    .dataframe tbody tr th:only-of-type {\n",
       "        vertical-align: middle;\n",
       "    }\n",
       "\n",
       "    .dataframe tbody tr th {\n",
       "        vertical-align: top;\n",
       "    }\n",
       "\n",
       "    .dataframe thead th {\n",
       "        text-align: right;\n",
       "    }\n",
       "</style>\n",
       "<table border=\"1\" class=\"dataframe\">\n",
       "  <thead>\n",
       "    <tr style=\"text-align: right;\">\n",
       "      <th></th>\n",
       "      <th>Gender</th>\n",
       "      <th>Height</th>\n",
       "      <th>Weight</th>\n",
       "    </tr>\n",
       "  </thead>\n",
       "  <tbody>\n",
       "    <tr>\n",
       "      <th>0</th>\n",
       "      <td>Male</td>\n",
       "      <td>73.847017</td>\n",
       "      <td>241.893563</td>\n",
       "    </tr>\n",
       "    <tr>\n",
       "      <th>1</th>\n",
       "      <td>Male</td>\n",
       "      <td>68.781904</td>\n",
       "      <td>162.310473</td>\n",
       "    </tr>\n",
       "    <tr>\n",
       "      <th>2</th>\n",
       "      <td>Male</td>\n",
       "      <td>74.110105</td>\n",
       "      <td>212.740856</td>\n",
       "    </tr>\n",
       "    <tr>\n",
       "      <th>3</th>\n",
       "      <td>Male</td>\n",
       "      <td>71.730978</td>\n",
       "      <td>220.042470</td>\n",
       "    </tr>\n",
       "    <tr>\n",
       "      <th>4</th>\n",
       "      <td>Male</td>\n",
       "      <td>69.881796</td>\n",
       "      <td>206.349801</td>\n",
       "    </tr>\n",
       "  </tbody>\n",
       "</table>\n",
       "</div>"
      ],
      "text/plain": [
       "  Gender     Height      Weight\n",
       "0   Male  73.847017  241.893563\n",
       "1   Male  68.781904  162.310473\n",
       "2   Male  74.110105  212.740856\n",
       "3   Male  71.730978  220.042470\n",
       "4   Male  69.881796  206.349801"
      ]
     },
     "execution_count": 14,
     "metadata": {},
     "output_type": "execute_result"
    }
   ],
   "source": [
    "df.head()"
   ]
  },
  {
   "cell_type": "code",
   "execution_count": 15,
   "metadata": {},
   "outputs": [],
   "source": [
    "X = df[['Height']].values\n",
    "y_true = df[['Weight']].values"
   ]
  },
  {
   "cell_type": "code",
   "execution_count": 18,
   "metadata": {},
   "outputs": [],
   "source": [
    "model = Sequential()  #our model is Sequential\n",
    "model.add(Dense(1, input_shape=(1,)))  #adding layers in model\n",
    "#we add Dense layer which have 2 layers and passed 1 as neuron"
   ]
  },
  {
   "cell_type": "code",
   "execution_count": 19,
   "metadata": {},
   "outputs": [
    {
     "name": "stdout",
     "output_type": "stream",
     "text": [
      "Model: \"sequential_3\"\n",
      "_________________________________________________________________\n",
      "Layer (type)                 Output Shape              Param #   \n",
      "=================================================================\n",
      "dense_1 (Dense)              (None, 1)                 2         \n",
      "=================================================================\n",
      "Total params: 2\n",
      "Trainable params: 2\n",
      "Non-trainable params: 0\n",
      "_________________________________________________________________\n"
     ]
    }
   ],
   "source": [
    "model.summary()"
   ]
  },
  {
   "cell_type": "code",
   "execution_count": 21,
   "metadata": {},
   "outputs": [],
   "source": [
    "#compiling model\n",
    "model.compile(Adam(lr=0.8), 'mean_squared_error')  #.compile(optimizer, loss calculator)"
   ]
  },
  {
   "cell_type": "code",
   "execution_count": 23,
   "metadata": {},
   "outputs": [
    {
     "name": "stdout",
     "output_type": "stream",
     "text": [
      "Epoch 1/40\n",
      "10000/10000 [==============================] - 1s 115us/step - loss: 1409.3801\n",
      "Epoch 2/40\n",
      "10000/10000 [==============================] - 1s 80us/step - loss: 566.6838\n",
      "Epoch 3/40\n",
      "10000/10000 [==============================] - 1s 75us/step - loss: 525.4018\n",
      "Epoch 4/40\n",
      "10000/10000 [==============================] - 1s 78us/step - loss: 507.9512\n",
      "Epoch 5/40\n",
      "10000/10000 [==============================] - 1s 79us/step - loss: 454.4895\n",
      "Epoch 6/40\n",
      "10000/10000 [==============================] - 1s 88us/step - loss: 410.9276\n",
      "Epoch 7/40\n",
      "10000/10000 [==============================] - 1s 89us/step - loss: 374.1005\n",
      "Epoch 8/40\n",
      "10000/10000 [==============================] - 1s 85us/step - loss: 351.6209\n",
      "Epoch 9/40\n",
      "10000/10000 [==============================] - 1s 77us/step - loss: 319.4593\n",
      "Epoch 10/40\n",
      "10000/10000 [==============================] - 1s 80us/step - loss: 291.5158\n",
      "Epoch 11/40\n",
      "10000/10000 [==============================] - 1s 82us/step - loss: 279.6413\n",
      "Epoch 12/40\n",
      "10000/10000 [==============================] - 1s 85us/step - loss: 250.3562\n",
      "Epoch 13/40\n",
      "10000/10000 [==============================] - 1s 101us/step - loss: 240.3306\n",
      "Epoch 14/40\n",
      "10000/10000 [==============================] - 1s 89us/step - loss: 225.3129\n",
      "Epoch 15/40\n",
      "10000/10000 [==============================] - 1s 96us/step - loss: 209.0382\n",
      "Epoch 16/40\n",
      "10000/10000 [==============================] - 1s 95us/step - loss: 207.4079\n",
      "Epoch 17/40\n",
      "10000/10000 [==============================] - 1s 109us/step - loss: 192.7922\n",
      "Epoch 18/40\n",
      "10000/10000 [==============================] - 1s 78us/step - loss: 203.5147\n",
      "Epoch 19/40\n",
      "10000/10000 [==============================] - 1s 84us/step - loss: 186.7798\n",
      "Epoch 20/40\n",
      "10000/10000 [==============================] - 1s 78us/step - loss: 188.7703\n",
      "Epoch 21/40\n",
      "10000/10000 [==============================] - 1s 75us/step - loss: 190.3144\n",
      "Epoch 22/40\n",
      "10000/10000 [==============================] - 1s 69us/step - loss: 192.0490\n",
      "Epoch 23/40\n",
      "10000/10000 [==============================] - 1s 67us/step - loss: 175.7264\n",
      "Epoch 24/40\n",
      "10000/10000 [==============================] - 1s 64us/step - loss: 181.2118\n",
      "Epoch 25/40\n",
      "10000/10000 [==============================] - 1s 67us/step - loss: 184.8552\n",
      "Epoch 26/40\n",
      "10000/10000 [==============================] - 1s 62us/step - loss: 181.2299\n",
      "Epoch 27/40\n",
      "10000/10000 [==============================] - 1s 66us/step - loss: 179.3483\n",
      "Epoch 28/40\n",
      "10000/10000 [==============================] - 1s 64us/step - loss: 171.6034\n",
      "Epoch 29/40\n",
      "10000/10000 [==============================] - 1s 63us/step - loss: 177.3630\n",
      "Epoch 30/40\n",
      "10000/10000 [==============================] - 1s 62us/step - loss: 194.7832\n",
      "Epoch 31/40\n",
      "10000/10000 [==============================] - 1s 73us/step - loss: 178.1455\n",
      "Epoch 32/40\n",
      "10000/10000 [==============================] - 1s 63us/step - loss: 181.2468\n",
      "Epoch 33/40\n",
      "10000/10000 [==============================] - 1s 71us/step - loss: 191.0598\n",
      "Epoch 34/40\n",
      "10000/10000 [==============================] - 1s 72us/step - loss: 182.6884\n",
      "Epoch 35/40\n",
      "10000/10000 [==============================] - 1s 64us/step - loss: 177.8930\n",
      "Epoch 36/40\n",
      "10000/10000 [==============================] - 1s 64us/step - loss: 175.8243\n",
      "Epoch 37/40\n",
      "10000/10000 [==============================] - 1s 66us/step - loss: 185.1339\n",
      "Epoch 38/40\n",
      "10000/10000 [==============================] - 1s 66us/step - loss: 169.6379\n",
      "Epoch 39/40\n",
      "10000/10000 [==============================] - 1s 71us/step - loss: 176.9492\n",
      "Epoch 40/40\n",
      "10000/10000 [==============================] - 1s 65us/step - loss: 169.7422\n"
     ]
    },
    {
     "data": {
      "text/plain": [
       "<keras.callbacks.callbacks.History at 0x229a759f470>"
      ]
     },
     "execution_count": 23,
     "metadata": {},
     "output_type": "execute_result"
    }
   ],
   "source": [
    "#model training\n",
    "model.fit(X,y_true, epochs=40, verbose=1)  #epochs => number of iteration\n",
    "#verbose =1 to show iterations on the screen | if we use 0 then iferations will not printed on screen"
   ]
  },
  {
   "cell_type": "code",
   "execution_count": 25,
   "metadata": {},
   "outputs": [
    {
     "data": {
      "text/plain": [
       "[<matplotlib.lines.Line2D at 0x229a9356f98>]"
      ]
     },
     "execution_count": 25,
     "metadata": {},
     "output_type": "execute_result"
    },
    {
     "data": {
      "image/png": "[encoded data removed]",
      "text/plain": [
       "<Figure size 432x288 with 1 Axes>"
      ]
     },
     "metadata": {
      "needs_background": "light"
     },
     "output_type": "display_data"
    }
   ],
   "source": [
    "y_predict = model.predict(X)\n",
    "\n",
    "df.plot(kind='scatter', x='Height', y='Weight', title='Weights and Heights in adult')\n",
    "plt.plot(X,y_predict, color='red', linewidth=5)"
   ]
  },
  {
   "cell_type": "code",
   "execution_count": 26,
   "metadata": {},
   "outputs": [],
   "source": [
    "w,b = model.get_weights()"
   ]
  },
  {
   "cell_type": "code",
   "execution_count": 27,
   "metadata": {},
   "outputs": [
    {
     "data": {
      "text/plain": [
       "array([[7.8159738]], dtype=float32)"
      ]
     },
     "execution_count": 27,
     "metadata": {},
     "output_type": "execute_result"
    }
   ],
   "source": [
    "w"
   ]
  },
  {
   "cell_type": "code",
   "execution_count": 28,
   "metadata": {},
   "outputs": [
    {
     "data": {
      "text/plain": [
       "array([-347.90402], dtype=float32)"
      ]
     },
     "execution_count": 28,
     "metadata": {},
     "output_type": "execute_result"
    }
   ],
   "source": [
    "b"
   ]
  },
  {
   "cell_type": "code",
   "execution_count": null,
   "metadata": {},
   "outputs": [],
   "source": []
  }
 ],
 "metadata": {
  "kernelspec": {
   "display_name": "Python 3",
   "language": "python",
   "name": "python3"
  },
  "language_info": {
   "codemirror_mode": {
    "name": "ipython",
    "version": 3
   },
   "file_extension": ".py",
   "mimetype": "text/x-python",
   "name": "python",
   "nbconvert_exporter": "python",
   "pygments_lexer": "ipython3",
   "version": "3.7.3"
  }
 },
 "nbformat": 4,
 "nbformat_minor": 2
}
